{
 "cells": [
  {
   "cell_type": "markdown",
   "id": "57914928",
   "metadata": {},
   "source": [
    "# NER model for mountain names\n",
    "I trained model, but had some little problems with it, because it doesn't fully recognize mountain names. My script for training you can see in the model_training.py. Result of my model is below:"
   ]
  },
  {
   "cell_type": "code",
   "execution_count": 1,
   "id": "d94f616d",
   "metadata": {},
   "outputs": [
    {
     "name": "stdout",
     "output_type": "stream",
     "text": [
      "[('next', 'O'), ('on', 'O'), ('our', 'O'), ('list', 'O'), ('is', 'O'), ('den', 'O'), ('##ali', 'O'), ('peak', 'O'), (',', 'O'), ('also', 'O'), ('known', 'O'), ('as', 'O'), ('mount', 'B-MOUNTAIN'), ('everest', 'O'), (',', 'O'), ('in', 'O'), ('alaska', 'O'), ('.', 'O')]\n",
      "next: O\n",
      "on: O\n",
      "our: O\n",
      "list: O\n",
      "is: O\n",
      "den: O\n",
      "##ali: O\n",
      "peak: O\n",
      ",: O\n",
      "also: O\n",
      "known: O\n",
      "as: O\n",
      "mount: B-MOUNTAIN\n",
      "everest: O\n",
      ",: O\n",
      "in: O\n",
      "alaska: O\n",
      ".: O\n"
     ]
    }
   ],
   "source": [
    "%run inference.py"
   ]
  },
  {
   "cell_type": "markdown",
   "id": "8ee176e5",
   "metadata": {},
   "source": [
    "The model correctly identifies the \"mount\" part of \"Denali Peak\", but fails to tag the rest of the mountain names (\"Everest\" and \"Alaska\") and other related terms. It might indicate that more fine-tuning or a different strategy for handling entities is needed, especially for cases where entities span multiple tokens. I think I should increase training data, or fine-tune further. Luckily, we have good solution, BERT pre-trained model for this problem:"
   ]
  },
  {
   "cell_type": "code",
   "execution_count": 4,
   "id": "8c6687b4",
   "metadata": {},
   "outputs": [
    {
     "name": "stderr",
     "output_type": "stream",
     "text": [
      "Device set to use cpu\n"
     ]
    },
    {
     "name": "stdout",
     "output_type": "stream",
     "text": [
      "[CLS]: O\n",
      "Next: O\n",
      "on: O\n",
      "our: O\n",
      "list: O\n",
      "is: B-MOUNTAIN\n",
      "Den: B-MOUNTAIN\n",
      "##ali: B-MOUNTAIN\n",
      "Peak: O\n",
      ",: O\n",
      "also: O\n",
      "known: O\n",
      "as: B-MOUNTAIN\n",
      "Mount: B-MOUNTAIN\n",
      "McKinley: O\n",
      ",: O\n",
      "in: O\n",
      "Alaska: O\n",
      ".: O\n",
      "[SEP]: O\n",
      "[{'entity': 'LABEL_0', 'score': 0.999171, 'index': 1, 'word': 'Next', 'start': 0, 'end': 4}, {'entity': 'LABEL_0', 'score': 0.99950564, 'index': 2, 'word': 'on', 'start': 5, 'end': 7}, {'entity': 'LABEL_0', 'score': 0.9994672, 'index': 3, 'word': 'our', 'start': 8, 'end': 11}, {'entity': 'LABEL_0', 'score': 0.99964094, 'index': 4, 'word': 'list', 'start': 12, 'end': 16}, {'entity': 'LABEL_0', 'score': 0.99947625, 'index': 5, 'word': 'is', 'start': 17, 'end': 19}, {'entity': 'LABEL_1', 'score': 0.9991271, 'index': 6, 'word': 'Den', 'start': 20, 'end': 23}, {'entity': 'LABEL_1', 'score': 0.9990953, 'index': 7, 'word': '##ali', 'start': 23, 'end': 26}, {'entity': 'LABEL_1', 'score': 0.99852437, 'index': 8, 'word': 'Peak', 'start': 27, 'end': 31}, {'entity': 'LABEL_0', 'score': 0.9979856, 'index': 9, 'word': ',', 'start': 31, 'end': 32}, {'entity': 'LABEL_0', 'score': 0.9994947, 'index': 10, 'word': 'also', 'start': 33, 'end': 37}, {'entity': 'LABEL_0', 'score': 0.9993505, 'index': 11, 'word': 'known', 'start': 38, 'end': 43}, {'entity': 'LABEL_0', 'score': 0.9995049, 'index': 12, 'word': 'as', 'start': 44, 'end': 46}, {'entity': 'LABEL_1', 'score': 0.99832374, 'index': 13, 'word': 'Mount', 'start': 47, 'end': 52}, {'entity': 'LABEL_1', 'score': 0.99922943, 'index': 14, 'word': 'McKinley', 'start': 53, 'end': 61}, {'entity': 'LABEL_0', 'score': 0.9970305, 'index': 15, 'word': ',', 'start': 61, 'end': 62}, {'entity': 'LABEL_0', 'score': 0.996761, 'index': 16, 'word': 'in', 'start': 63, 'end': 65}, {'entity': 'LABEL_0', 'score': 0.94296974, 'index': 17, 'word': 'Alaska', 'start': 66, 'end': 72}, {'entity': 'LABEL_0', 'score': 0.9996245, 'index': 18, 'word': '.', 'start': 72, 'end': 73}]\n"
     ]
    }
   ],
   "source": [
    "from transformers import AutoModelForTokenClassification, AutoTokenizer, pipeline\n",
    "\n",
    "model = AutoModelForTokenClassification.from_pretrained(\"dieumerci/mountain-recognition-ner\")\n",
    "tokenizer = AutoTokenizer.from_pretrained(\"dieumerci/mountain-recognition-ner\")\n",
    "classifier = pipeline(\"ner\", model=model, tokenizer=tokenizer)\n",
    "\n",
    "text = \"Next on our list is Denali Peak, also known as Mount McKinley, in Alaska.\"\n",
    "result = classifier(text)\n",
    "\n",
    "label_map = {\n",
    "    'LABEL_0': 'O',      \n",
    "    'LABEL_1': 'B-MOUNTAIN',  \n",
    "}\n",
    "\n",
    "# Get the tokenized version of the input text\n",
    "tokens = tokenizer.tokenize(tokenizer.decode(tokenizer.encode(text)))\n",
    "token_label_pairs = []\n",
    "\n",
    "for i, token in enumerate(tokens):\n",
    "    # Match the index of the token with the corresponding NER result\n",
    "    # Since the NER result is a list of dictionaries, we can assign the label\n",
    "    # based on the entity classification for each token\n",
    "    entity_label = result[i]['entity'] if i < len(result) else 'O'  # Default to 'O' if no entity found\n",
    "    label = label_map.get(entity_label, 'O')  # Map to 'O' if the label is not found in the label_map\n",
    "    token_label_pairs.append((token, label))\n",
    "    \n",
    "for token, label in token_label_pairs:\n",
    "    print(f'{token}: {label}')\n",
    "print(result)"
   ]
  }
 ],
 "metadata": {
  "kernelspec": {
   "display_name": "Python 3 (ipykernel)",
   "language": "python",
   "name": "python3"
  },
  "language_info": {
   "codemirror_mode": {
    "name": "ipython",
    "version": 3
   },
   "file_extension": ".py",
   "mimetype": "text/x-python",
   "name": "python",
   "nbconvert_exporter": "python",
   "pygments_lexer": "ipython3",
   "version": "3.10.7"
  }
 },
 "nbformat": 4,
 "nbformat_minor": 5
}
